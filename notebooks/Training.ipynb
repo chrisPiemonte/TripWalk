{
 "cells": [
  {
   "cell_type": "code",
   "execution_count": 1,
   "metadata": {
    "collapsed": true
   },
   "outputs": [],
   "source": [
    "import os\n",
    "import numpy as np\n",
    "import pandas as pd\n",
    "import sys\n",
    "\n",
    "from sklearn.manifold import TSNE\n",
    "from gensim.models import Word2Vec\n",
    "\n",
    "import plotly.plotly as py\n",
    "import plotly.graph_objs as go\n",
    "from plotly.graph_objs import *"
   ]
  },
  {
   "cell_type": "code",
   "execution_count": 2,
   "metadata": {
    "collapsed": true
   },
   "outputs": [],
   "source": [
    "def get_sequences(filename, sep=\" \", min_len=1):\n",
    "    for line in open(filename, \"r\"):\n",
    "        sequence = line.split(sep)[:-1]\n",
    "        if len(sequence) >= min_len:\n",
    "            yield sequence\n",
    "            \n",
    "def scatter_plot(two_dim_vecs, word_labels=None, colors=\"#00897B\", user=\"chrispolo\", api_key=\"89nned6csl\"):\n",
    "    py.sign_in(user, api_key)\n",
    "\n",
    "    x_coord = two_dim_vecs[:, 0]\n",
    "    y_coord = two_dim_vecs[:, 1]\n",
    "\n",
    "    trace = go.Scattergl(\n",
    "        x = x_coord, #\n",
    "        y = y_coord, #\n",
    "        mode = 'markers',\n",
    "        text = word_labels, #\n",
    "        marker = dict(\n",
    "            color = colors,\n",
    "            line = dict(width = 1)\n",
    "        )\n",
    "    )\n",
    "\n",
    "    data = [trace]\n",
    "    return data"
   ]
  },
  {
   "cell_type": "markdown",
   "metadata": {},
   "source": [
    "### Training the Model"
   ]
  },
  {
   "cell_type": "code",
   "execution_count": 3,
   "metadata": {},
   "outputs": [
    {
     "data": {
      "text/plain": [
       "40358"
      ]
     },
     "execution_count": 3,
     "metadata": {},
     "output_type": "execute_result"
    }
   ],
   "source": [
    "walks_path_nc  = \"../dataset/embedding_topical_concepts_en.ttl.txt\"\n",
    "\n",
    "vocab_sequences = get_sequences(walks_path_nc)\n",
    "train_sequences = get_sequences(walks_path_nc)\n",
    "\n",
    "model = Word2Vec(min_count=1, window=5, negative=5, sg=1)\n",
    "\n",
    "model.build_vocab(vocab_sequences)\n",
    "model.train(train_sequences)"
   ]
  },
  {
   "cell_type": "markdown",
   "metadata": {},
   "source": [
    "### Dim reduction of embeddings"
   ]
  },
  {
   "cell_type": "code",
   "execution_count": 4,
   "metadata": {},
   "outputs": [],
   "source": [
    "embeddings = [model[uri] for uri in model.vocab]\n",
    "uris = [uri for uri in model.vocab]\n",
    "\n",
    "tsne = TSNE(n_components=2)\n",
    "twodim_embeddings = tsne.fit_transform(embeddings)"
   ]
  },
  {
   "cell_type": "markdown",
   "metadata": {},
   "source": [
    "### Plot"
   ]
  },
  {
   "cell_type": "code",
   "execution_count": 5,
   "metadata": {},
   "outputs": [
    {
     "data": {
      "text/html": [
       "<iframe id=\"igraph\" scrolling=\"no\" style=\"border:none;\" seamless=\"seamless\" src=\"https://plot.ly/~chrispolo/1238.embed\" height=\"525px\" width=\"100%\"></iframe>"
      ],
      "text/plain": [
       "<plotly.tools.PlotlyDisplay object>"
      ]
     },
     "execution_count": 5,
     "metadata": {},
     "output_type": "execute_result"
    }
   ],
   "source": [
    "scatter_data = scatter_plot(twodim_embeddings, uris)\n",
    "py.iplot(scatter_data, filename='Data')"
   ]
  },
  {
   "cell_type": "markdown",
   "metadata": {},
   "source": [
    "Check it [here](https://plot.ly/create/?fid=chrispolo:1238)"
   ]
  }
 ],
 "metadata": {
  "kernelspec": {
   "display_name": "Python 2",
   "language": "python",
   "name": "python2"
  },
  "language_info": {
   "codemirror_mode": {
    "name": "ipython",
    "version": 2
   },
   "file_extension": ".py",
   "mimetype": "text/x-python",
   "name": "python",
   "nbconvert_exporter": "python",
   "pygments_lexer": "ipython2",
   "version": "2.7.11"
  }
 },
 "nbformat": 4,
 "nbformat_minor": 2
}
